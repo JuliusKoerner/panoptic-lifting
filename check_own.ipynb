{
 "cells": [
  {
   "cell_type": "code",
   "execution_count": 1,
   "metadata": {},
   "outputs": [],
   "source": [
    "from PIL import Image\n",
    "import matplotlib.pyplot as plt\n",
    "from gifMaker import make_gif, make_gif_from_array\n",
    "import numpy as np\n"
   ]
  },
  {
   "cell_type": "code",
   "execution_count": 3,
   "metadata": {},
   "outputs": [],
   "source": [
    "\n",
    "# Open an image file\n",
    "path = '/home/rozenberszki/project/panoptic-lifting/runs/room_0_test_01171740_PanopLi_replicaroom0_easy-longshoreman/pred_surrogateid'\n",
    "\n",
    "make_gif(path)"
   ]
  },
  {
   "cell_type": "code",
   "execution_count": 3,
   "metadata": {},
   "outputs": [
    {
     "data": {
      "text/plain": [
       "array([[13, 13, 13, ...,  9,  9,  9],\n",
       "       [13, 13, 13, ...,  9,  9,  9],\n",
       "       [13, 13, 13, ...,  9,  9,  9],\n",
       "       ...,\n",
       "       [ 7,  7,  7, ...,  6,  6,  6],\n",
       "       [ 7,  7,  7, ...,  6,  6,  6],\n",
       "       [ 7,  7,  7, ...,  6,  6,  6]], dtype=uint8)"
      ]
     },
     "execution_count": 3,
     "metadata": {},
     "output_type": "execute_result"
    }
   ],
   "source": [
    "path = '/home/rozenberszki/project/panoptic-lifting/runs/room_0_test_01171740_PanopLi_replicaroom0_easy-longshoreman/pred_semantics/0_0868.png'\n",
    "img = np.array(Image.open(path))\n",
    "img"
   ]
  },
  {
   "cell_type": "code",
   "execution_count": null,
   "metadata": {},
   "outputs": [],
   "source": []
  }
 ],
 "metadata": {
  "kernelspec": {
   "display_name": "panoptic",
   "language": "python",
   "name": "python3"
  },
  "language_info": {
   "codemirror_mode": {
    "name": "ipython",
    "version": 3
   },
   "file_extension": ".py",
   "mimetype": "text/x-python",
   "name": "python",
   "nbconvert_exporter": "python",
   "pygments_lexer": "ipython3",
   "version": "3.9.19"
  }
 },
 "nbformat": 4,
 "nbformat_minor": 2
}
