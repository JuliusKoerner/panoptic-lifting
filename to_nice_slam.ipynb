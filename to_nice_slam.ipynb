{
 "cells": [
  {
   "cell_type": "code",
   "execution_count": 1,
   "metadata": {},
   "outputs": [],
   "source": [
    "import PIL\n",
    "from PIL import Image\n",
    "import os\n",
    "import sys\n",
    "import numpy as np"
   ]
  },
  {
   "cell_type": "code",
   "execution_count": 2,
   "metadata": {},
   "outputs": [],
   "source": [
    "read_path = '/home/rozenberszki/project/panoptic-lifting/data/replica/room_0/color'\n",
    "write_path = '/home/rozenberszki/project/wsnsl/Datasets/Replica/room0_panoptic/color'"
   ]
  },
  {
   "cell_type": "code",
   "execution_count": 12,
   "metadata": {},
   "outputs": [],
   "source": [
    "# Get all .jpg files in the read_path\n",
    "jpg_files = [f for f in os.listdir(read_path) if f.endswith('.jpg')]\n",
    "\n",
    "for jpg_file in jpg_files:\n",
    "    # Open the .jpg file\n",
    "    img = Image.open(os.path.join(read_path, jpg_file))\n",
    "    \n",
    "    # Convert the image to .png\n",
    "    png_file = 'frame00' + jpg_file[-8:-4] + '.png'\n",
    "    \n",
    "    # Save the .png file to the write_path\n",
    "    img.save(os.path.join(write_path, png_file))\n"
   ]
  },
  {
   "cell_type": "code",
   "execution_count": 20,
   "metadata": {},
   "outputs": [],
   "source": [
    "read_path = '/home/rozenberszki/project/panoptic-lifting/data/replica/room_0/depth'\n",
    "write_path = '/home/rozenberszki/project/wsnsl/Datasets/Replica/room0_panoptic/depth'"
   ]
  },
  {
   "cell_type": "code",
   "execution_count": 21,
   "metadata": {},
   "outputs": [],
   "source": [
    "# Get all .jpg files in the read_path\n",
    "png_files = [f for f in os.listdir(read_path) if f.endswith('.png')]\n",
    "\n",
    "for file in png_files:\n",
    "    # Open the .jpg file\n",
    "    img = Image.open(os.path.join(read_path, file))\n",
    "    img = np.array(img)*5\n",
    "    img = Image.fromarray(img)\n",
    "    # Convert the image to .png\n",
    "    png_file = 'depth00' + file[-8:-4] + '.png'\n",
    "    \n",
    "    # Save the .png file to the write_path\n",
    "    img.save(os.path.join(write_path, png_file))"
   ]
  },
  {
   "cell_type": "code",
   "execution_count": 38,
   "metadata": {},
   "outputs": [],
   "source": [
    "pose_path = '/home/rozenberszki/project/panoptic-lifting/data/replica/room_0/pose'\n",
    "pose_store = '/home/rozenberszki/project/wsnsl/Datasets/Replica/room0_panoptic/traj.txt'"
   ]
  },
  {
   "cell_type": "code",
   "execution_count": 24,
   "metadata": {},
   "outputs": [],
   "source": [
    "pose_files = [f for f in os.listdir(pose_path) if f.endswith('.txt')]"
   ]
  },
  {
   "cell_type": "code",
   "execution_count": 33,
   "metadata": {},
   "outputs": [],
   "source": [
    "poses = [np.loadtxt(os.path.join(pose_path, pose_files[0])).flatten()[None] for p in pose_files]"
   ]
  },
  {
   "cell_type": "code",
   "execution_count": 36,
   "metadata": {},
   "outputs": [],
   "source": [
    "poses = np.concatenate(poses, axis=0)"
   ]
  },
  {
   "cell_type": "code",
   "execution_count": 40,
   "metadata": {},
   "outputs": [],
   "source": [
    "np.savetxt( pose_store,poses,)"
   ]
  },
  {
   "cell_type": "code",
   "execution_count": null,
   "metadata": {},
   "outputs": [],
   "source": []
  }
 ],
 "metadata": {
  "kernelspec": {
   "display_name": "panoptic",
   "language": "python",
   "name": "python3"
  },
  "language_info": {
   "codemirror_mode": {
    "name": "ipython",
    "version": 3
   },
   "file_extension": ".py",
   "mimetype": "text/x-python",
   "name": "python",
   "nbconvert_exporter": "python",
   "pygments_lexer": "ipython3",
   "version": "3.9.19"
  }
 },
 "nbformat": 4,
 "nbformat_minor": 2
}
